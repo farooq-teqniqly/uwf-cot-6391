{
  "cells": [
    {
      "cell_type": "markdown",
      "metadata": {
        "nteract": {
          "transient": {
            "deleting": false
          }
        }
      },
      "source": [
        "# Functions Shared Across Notebooks\n"
      ]
    },
    {
      "cell_type": "code",
      "execution_count": null,
      "metadata": {},
      "outputs": [],
      "source": [
        "from pyspark.sql import functions as F\n",
        "from pyspark.sql.types import StructType, StructField, IntegerType, StringType, FloatType\n",
        "from pyspark.ml.classification import NaiveBayes, DecisionTreeClassifier, LogisticRegression\n",
        "from enum import Enum"
      ]
    },
    {
      "cell_type": "code",
      "execution_count": null,
      "metadata": {
        "jupyter": {
          "outputs_hidden": false,
          "source_hidden": false
        },
        "nteract": {
          "transient": {
            "deleting": false
          }
        }
      },
      "outputs": [],
      "source": [
        "\n",
        "class MLAlgorithm(Enum):\n",
        "    \"\"\"\n",
        "    Enumeration class representing different machine learning algorithms.\n",
        "    \"\"\"\n",
        "    NB = \"Naive Bayes\"\n",
        "    DT = \"Decision Tree\"\n",
        "    LR = \"Logistic Regression\"\n",
        "\n",
        "# Define the schema for the DataFrame\n",
        "# This schema represents the structure of the DataFrame that will be used for storing ML algorithm results.\n",
        "\n",
        "schema = StructType(\n",
        "    [\n",
        "        StructField(\"feature_cols\", StringType(), False),\n",
        "        StructField(\"accuracy\", FloatType(), True),\n",
        "        StructField(\"precision\", FloatType(), True),\n",
        "        StructField(\"recall\", FloatType(), True),\n",
        "        StructField(\"f_measure\", FloatType(), True),\n",
        "        StructField(\"fp_rate\", FloatType(), True),\n",
        "        StructField(\"auc_roc\", FloatType(), True),\n",
        "        StructField(\"conf_matrix_tp\", FloatType(), True),\n",
        "        StructField(\"conf_matrix_fp\", FloatType(), True),\n",
        "        StructField(\"conf_matrix_fn\", FloatType(), True),\n",
        "        StructField(\"conf_matrix_tn\", FloatType(), True),\n",
        "    ]\n",
        ")\n",
        "\n"
      ]
    },
    {
      "cell_type": "code",
      "execution_count": null,
      "metadata": {
        "jupyter": {
          "outputs_hidden": false,
          "source_hidden": false
        },
        "nteract": {
          "transient": {
            "deleting": false
          }
        }
      },
      "outputs": [],
      "source": [
        "\n",
        "def load_csv(filesystem_endpoint, path):\n",
        "    \"\"\"\n",
        "    Load a CSV file from the specified filesystem endpoint and path.\n",
        "\n",
        "    Args:\n",
        "        filesystem_endpoint (str): The endpoint of the filesystem.\n",
        "        path (str): The path to the CSV file.\n",
        "\n",
        "    Returns:\n",
        "        DataFrame: The loaded CSV data as a DataFrame.\n",
        "    \"\"\"\n",
        "    input_file = f\"abfss://{filesystem_endpoint}/{path}\"\n",
        "    df = spark.read.format(\"csv\").option(\"header\", \"true\").load(input_file)\n",
        "\n",
        "    return df\n",
        "\n",
        "def save_df_to_csv(df, filesystem_endpoint, path):\n",
        "    \"\"\"\n",
        "    Save a DataFrame to a CSV file at the specified filesystem endpoint and path.\n",
        "\n",
        "    Args:\n",
        "        df (DataFrame): The DataFrame to be saved.\n",
        "        filesystem_endpoint (str): The endpoint of the filesystem.\n",
        "        path (str): The path to save the CSV file.\n",
        "\n",
        "    Returns:\n",
        "        None\n",
        "    \"\"\"\n",
        "    out_file = f\"abfss://{filesystem_endpoint}/{path}\"\n",
        "    df.coalesce(1).write.format(\"csv\").option(\"header\", True).mode(\"overwrite\").option(\"delimiter\",\",\").save(out_file)\n",
        "\n",
        "def run_ml_algorithm(algorithm, feature_cols, label_col, iter_df, train_pct):\n",
        "    \"\"\"\n",
        "    Run a machine learning algorithm on the given DataFrame.\n",
        "\n",
        "    Args:\n",
        "        algorithm (MLAlgorithm): The machine learning algorithm to run.\n",
        "        feature_cols (list): The list of feature columns.\n",
        "        label_col (str): The label column.\n",
        "        iter_df (DataFrame): The input DataFrame.\n",
        "        train_pct (float): The percentage of data to use for training.\n",
        "\n",
        "    Returns:\n",
        "        DataFrame: The predictions made by the machine learning algorithm.\n",
        "    \"\"\"\n",
        "    train, test = iter_df.randomSplit([train_pct, 1 - train_pct], seed=1234)\n",
        "\n",
        "    if algorithm == MLAlgorithm.NB:\n",
        "        predictions = run_naive_bayes_algorithm(train, test, label_col)\n",
        "    elif algorithm == MLAlgorithm.DT:\n",
        "        predictions = run_decision_tree_algorithm(train, test, label_col)\n",
        "    elif algorithm == MLAlgorithm.LR:\n",
        "        predictions = run_logistic_regression_algorithm(train, test, label_col)\n",
        "    else:\n",
        "        raise ValueError(\"Invalid algorithm.\")\n",
        "\n",
        "    return predictions\n",
        "\n",
        "\n",
        "def run_naive_bayes_algorithm(train, test, label_col):\n",
        "    \"\"\"\n",
        "    Run the Naive Bayes algorithm on the given train and test DataFrames.\n",
        "\n",
        "    Args:\n",
        "        train (DataFrame): The training DataFrame.\n",
        "        test (DataFrame): The test DataFrame.\n",
        "        label_col (str): The label column.\n",
        "\n",
        "    Returns:\n",
        "        DataFrame: The predictions made by the Naive Bayes algorithm.\n",
        "    \"\"\"\n",
        "    nb = NaiveBayes(featuresCol=\"features\", labelCol=label_col, modelType=\"multinomial\")\n",
        "    nbModel = nb.fit(train)\n",
        "    predictions = nbModel.transform(test)\n",
        "\n",
        "    return predictions\n",
        "\n",
        "def run_decision_tree_algorithm(train, test, label_col):\n",
        "    \"\"\"\n",
        "    Run the Decision Tree algorithm on the given train and test DataFrames.\n",
        "\n",
        "    Args:\n",
        "        train (DataFrame): The training DataFrame.\n",
        "        test (DataFrame): The test DataFrame.\n",
        "        label_col (str): The label column.\n",
        "\n",
        "    Returns:\n",
        "        DataFrame: The predictions made by the Decision Tree algorithm.\n",
        "    \"\"\"\n",
        "    dt = DecisionTreeClassifier(featuresCol = \"features\", labelCol=label_col, maxBins=500)\n",
        "    dtModel = dt.fit(train)\n",
        "    predictions = dtModel.transform(test)\n",
        "\n",
        "    return predictions\n",
        "\n",
        "def run_logistic_regression_algorithm(train, test, label_col):\n",
        "    \"\"\"\n",
        "    Run the Logistic Regression algorithm on the given train and test DataFrames.\n",
        "\n",
        "    Args:\n",
        "        train (DataFrame): The training DataFrame.\n",
        "        test (DataFrame): The test DataFrame.\n",
        "        label_col (str): The label column.\n",
        "\n",
        "    Returns:\n",
        "        DataFrame: The predictions made by the Logistic Regression algorithm.\n",
        "    \"\"\"\n",
        "    lr = LogisticRegression(featuresCol=\"features\", labelCol=label_col)\n",
        "    lrModel = lr.fit(train)\n",
        "    predictions = lrModel.transform(test)\n",
        "    \n",
        "    return predictions"
      ]
    }
  ],
  "metadata": {
    "description": null,
    "kernelspec": {
      "display_name": "python",
      "name": "synapse_pyspark"
    },
    "language_info": {
      "name": "python"
    },
    "save_output": true,
    "synapse_widget": {
      "state": {},
      "version": "0.1"
    }
  },
  "nbformat": 4,
  "nbformat_minor": 2
}
