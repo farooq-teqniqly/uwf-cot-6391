{
  "cells": [
    {
      "cell_type": "code",
      "source": [
        "import itertools\n",
        "import numpy as np\n",
        "from pyspark.sql import SparkSession\n",
        "from pyspark.sql.functions import *\n",
        "from pyspark.sql.types import StructType, StructField, FloatType, Row\n",
        "from pyspark.ml import Pipeline,Transformer\n",
        "from pyspark.ml.evaluation import MulticlassClassificationEvaluator, BinaryClassificationEvaluator\n",
        "from pyspark.ml.feature import Bucketizer,StringIndexer\n",
        "from pyspark.ml.feature import VectorAssembler\n",
        "# from pyspark.ml.stat import Correlation\n",
        "from pyspark.mllib.evaluation import MulticlassMetrics"
      ],
      "outputs": [
        {
          "output_type": "display_data",
          "data": {
            "application/vnd.livy.statement-meta+json": {
              "spark_pool": "sparkPool01",
              "session_id": "10",
              "statement_id": 123,
              "state": "finished",
              "livy_statement_state": "available",
              "queued_time": "2024-03-17T22:49:39.0232439Z",
              "session_start_time": null,
              "execution_start_time": "2024-03-17T22:49:39.1364793Z",
              "execution_finish_time": "2024-03-17T22:49:39.2931822Z",
              "spark_jobs": null,
              "parent_msg_id": "d473410f-69d0-4be7-bcba-a4c9e058aee9"
            },
            "text/plain": "StatementMeta(sparkPool01, 10, 123, Finished, Available)"
          },
          "metadata": {}
        }
      ],
      "execution_count": 92,
      "metadata": {
        "application/vnd.databricks.v1+cell": {
          "cellMetadata": {
            "byteLimit": 2048000,
            "rowLimit": 10000
          },
          "inputWidgets": {},
          "nuid": "eb4d880b-17db-4c3c-925b-619399ade6f1",
          "showTitle": false,
          "title": ""
        }
      }
    },
    {
      "cell_type": "code",
      "source": [
        "%run \"Common\""
      ],
      "outputs": [
        {
          "output_type": "display_data",
          "data": {
            "application/vnd.livy.statement-meta+json": {
              "spark_pool": null,
              "session_id": null,
              "statement_id": -1,
              "state": "finished",
              "livy_statement_state": "available",
              "queued_time": "2024-03-17T22:49:39.0795076Z",
              "session_start_time": null,
              "execution_start_time": "2024-03-17T22:49:40.2562148Z",
              "execution_finish_time": "2024-03-17T22:49:40.2564372Z",
              "spark_jobs": null,
              "parent_msg_id": "b582955d-0cdc-4340-a08f-54ad83eb295c"
            },
            "text/plain": "StatementMeta(, , -1, Finished, Available)"
          },
          "metadata": {}
        }
      ],
      "execution_count": 93,
      "metadata": {
        "jupyter": {
          "source_hidden": false,
          "outputs_hidden": false
        },
        "nteract": {
          "transient": {
            "deleting": false
          }
        }
      }
    },
    {
      "cell_type": "code",
      "source": [
        "csv_file_name = \"StarReconNoneEdgesWithHops.csv\"\r\n",
        "filesystem_endpoint = \"smtcrbsynfs@smtcrbsyndl.dfs.core.windows.net\"\r\n",
        "data_folder = \"/data/uwf\""
      ],
      "outputs": [
        {
          "output_type": "display_data",
          "data": {
            "application/vnd.livy.statement-meta+json": {
              "spark_pool": "sparkPool01",
              "session_id": "10",
              "statement_id": 127,
              "state": "finished",
              "livy_statement_state": "available",
              "queued_time": "2024-03-17T22:49:39.1764438Z",
              "session_start_time": null,
              "execution_start_time": "2024-03-17T22:49:40.3775415Z",
              "execution_finish_time": "2024-03-17T22:49:40.5211883Z",
              "spark_jobs": null,
              "parent_msg_id": "a9eab2c4-84e6-4285-a254-0247c920e852"
            },
            "text/plain": "StatementMeta(sparkPool01, 10, 127, Finished, Available)"
          },
          "metadata": {}
        }
      ],
      "execution_count": 94,
      "metadata": {
        "jupyter": {
          "source_hidden": false,
          "outputs_hidden": false
        },
        "nteract": {
          "transient": {
            "deleting": false
          }
        }
      }
    },
    {
      "cell_type": "code",
      "source": [
        "file_path = f\"{data_folder}/{csv_file_name}\"\r\n",
        "dataset = file_path.split(\"/\")[-1]\r\n",
        "conn_df = load_csv(filesystem_endpoint, file_path)"
      ],
      "outputs": [
        {
          "output_type": "display_data",
          "data": {
            "application/vnd.livy.statement-meta+json": {
              "spark_pool": "sparkPool01",
              "session_id": "10",
              "statement_id": 128,
              "state": "finished",
              "livy_statement_state": "available",
              "queued_time": "2024-03-17T22:49:39.2648768Z",
              "session_start_time": null,
              "execution_start_time": "2024-03-17T22:49:40.6414658Z",
              "execution_finish_time": "2024-03-17T22:49:41.1573399Z",
              "spark_jobs": null,
              "parent_msg_id": "34163b4d-176a-494a-a969-ec3d76865f36"
            },
            "text/plain": "StatementMeta(sparkPool01, 10, 128, Finished, Available)"
          },
          "metadata": {}
        }
      ],
      "execution_count": 95,
      "metadata": {
        "jupyter": {
          "source_hidden": false,
          "outputs_hidden": false
        },
        "nteract": {
          "transient": {
            "deleting": false
          }
        }
      }
    },
    {
      "cell_type": "code",
      "source": [
        "algorithm = MLAlgorithm.DT\r\n",
        "train_pct = 0.84"
      ],
      "outputs": [
        {
          "output_type": "display_data",
          "data": {
            "application/vnd.livy.statement-meta+json": {
              "spark_pool": "sparkPool01",
              "session_id": "10",
              "statement_id": 129,
              "state": "finished",
              "livy_statement_state": "available",
              "queued_time": "2024-03-17T22:49:39.3033712Z",
              "session_start_time": null,
              "execution_start_time": "2024-03-17T22:49:41.2869013Z",
              "execution_finish_time": "2024-03-17T22:49:41.4426924Z",
              "spark_jobs": null,
              "parent_msg_id": "3d7b96f8-033b-4d80-9d7e-e212a64c6dc2"
            },
            "text/plain": "StatementMeta(sparkPool01, 10, 129, Finished, Available)"
          },
          "metadata": {}
        }
      ],
      "execution_count": 96,
      "metadata": {
        "jupyter": {
          "source_hidden": false,
          "outputs_hidden": false
        },
        "nteract": {
          "transient": {
            "deleting": false
          }
        }
      }
    },
    {
      "cell_type": "code",
      "source": [
        "result_df = spark.createDataFrame([], schema=schema)\r\n",
        "\r\n",
        "target_cols = [\"Tactic\"]\r\n",
        "\r\n",
        "all_cols = [\r\n",
        "    \"From\",\r\n",
        "    \"To\",\r\n",
        "    \"Avg_Duration\",\r\n",
        "    \"Total_Duration\",\r\n",
        "    \"Avg_Bytes\",\r\n",
        "    \"Total_Bytes\",\r\n",
        "    \"Count\",\r\n",
        "    \"Hop_Count\",\r\n",
        "]\r\n",
        "\r\n",
        "cols_combinations = []\r\n",
        "\r\n",
        "for r in range(1, len(all_cols) + 1):\r\n",
        "    cols_combinations.extend(list(itertools.combinations(all_cols, r)))\r\n",
        "\r\n",
        "cols_combinations_len = len(cols_combinations)\r\n",
        "\r\n",
        "for i, combination in enumerate(cols_combinations):\r\n",
        "    print(f\"Iteration {i+1} of {cols_combinations_len}\")\r\n",
        "    \r\n",
        "    drop_cols = [col for col in all_cols if col not in combination]\r\n",
        "    additional_drop_cols = [\"Id\"]\r\n",
        "    drop_cols = drop_cols + additional_drop_cols\r\n",
        "\r\n",
        "    print(f\"Feature columns: {combination}\")\r\n",
        "    print(f\"Dropped columns: {drop_cols}\")\r\n",
        "\r\n",
        "    iter_df = conn_df.drop(*drop_cols)\r\n",
        "    iter_df = iter_df.na.drop(how=\"any\")\r\n",
        "\r\n",
        "    numeric_cols = [\r\n",
        "        name\r\n",
        "        for name, types in iter_df.dtypes\r\n",
        "        if types == \"int\" or types == \"double\" or types == \"bigint\"\r\n",
        "    ]\r\n",
        "\r\n",
        "    string_cols = [name for name, types in iter_df.dtypes if types == \"string\"]\r\n",
        "\r\n",
        "    indexers = [\r\n",
        "        StringIndexer(inputCol=column, outputCol=column + \"_processed\").fit(iter_df)\r\n",
        "        for column in string_cols\r\n",
        "    ]\r\n",
        "\r\n",
        "    numeric_bucketing = [\r\n",
        "        Bucketizer(\r\n",
        "            splits=[-float(\"inf\"), 10, 100, float(\"inf\")],\r\n",
        "            inputCol=x,\r\n",
        "            outputCol=x + \"_processed\",\r\n",
        "        )\r\n",
        "        for x in numeric_cols\r\n",
        "    ]\r\n",
        "\r\n",
        "    stages_ = indexers + numeric_bucketing\r\n",
        "\r\n",
        "    iter_df = Pipeline(stages=stages_).fit(iter_df).transform(iter_df)\r\n",
        "\r\n",
        "    feature_cols = []\r\n",
        "    for col, types in iter_df.dtypes:\r\n",
        "        if \"_processed\" in col:\r\n",
        "            if not target_cols[0] in col:\r\n",
        "                feature_cols.append(col)\r\n",
        "\r\n",
        "    assembler = VectorAssembler(inputCols=feature_cols, outputCol=\"features\")\r\n",
        "    iter_df = assembler.transform(iter_df)\r\n",
        "\r\n",
        "    train, test = iter_df.randomSplit([train_pct, 1 - train_pct], seed=1234)\r\n",
        "    label_col = target_cols[0] + \"_processed\"\r\n",
        "\r\n",
        "    predictions = run_ml_algorithm(algorithm, feature_cols, label_col, iter_df, train_pct)\r\n",
        "    \r\n",
        "    predictions_and_labels = predictions.select([\"prediction\", label_col])\r\n",
        "\r\n",
        "    metrics = MulticlassMetrics(predictions_and_labels.rdd.map(tuple))\r\n",
        "    mc_evaluator = MulticlassClassificationEvaluator(\r\n",
        "        labelCol=label_col, predictionCol=\"prediction\"\r\n",
        "    )\r\n",
        "    accuracy = mc_evaluator.evaluate(predictions)\r\n",
        "\r\n",
        "    bin_evaluator = BinaryClassificationEvaluator(\r\n",
        "        rawPredictionCol=\"prediction\", labelCol=label_col, metricName=\"areaUnderROC\"\r\n",
        "    )\r\n",
        "    auc_roc = bin_evaluator.evaluate(predictions)\r\n",
        "\r\n",
        "    confusion_matrix = metrics.confusionMatrix().toArray()\r\n",
        "    \r\n",
        "    confusion_matrix_flattened = list(confusion_matrix.flatten().astype(str))\r\n",
        "    \r\n",
        "   \r\n",
        "    feature_col_str = \"&\".join(combination)\r\n",
        "    \r\n",
        "    try:\r\n",
        "        precision = metrics.precision(1.0)\r\n",
        "    except:\r\n",
        "        precision = metrics.weightedPrecision\r\n",
        "        \r\n",
        "    recall = metrics.recall(0)\r\n",
        "    fmeasure = metrics.fMeasure(0.0, 2.0)\r\n",
        "    \r\n",
        "    try:\r\n",
        "        fprate = metrics.falsePositiveRate(1.0)\r\n",
        "    except:\r\n",
        "        fprate = metrics.weightedFalsePositiveRate\r\n",
        "    \r\n",
        "    confusion_matrix_values = [float(x) for x in confusion_matrix_flattened]\r\n",
        "    \r\n",
        "    if len(confusion_matrix_values) == 1:\r\n",
        "        confusion_matrix_values = (confusion_matrix_values[0], 0.0, 0.0, 0.0)\r\n",
        "    else:\r\n",
        "        confusion_matrix_values = tuple(confusion_matrix_values)\r\n",
        "        \r\n",
        "    result_metrics = (\r\n",
        "        feature_col_str,\r\n",
        "        accuracy,\r\n",
        "        precision,\r\n",
        "        recall,\r\n",
        "        fmeasure,\r\n",
        "        fprate,\r\n",
        "        auc_roc,\r\n",
        "    ) + confusion_matrix_values\r\n",
        "    \r\n",
        "    result_df = result_df.union(spark.createDataFrame([result_metrics], schema=schema))\r\n"
      ],
      "outputs": [
        {
          "output_type": "display_data",
          "data": {
            "application/vnd.livy.statement-meta+json": {
              "spark_pool": "sparkPool01",
              "session_id": "10",
              "statement_id": 130,
              "state": "finished",
              "livy_statement_state": "available",
              "queued_time": "2024-03-17T22:49:39.3452222Z",
              "session_start_time": null,
              "execution_start_time": "2024-03-17T22:49:41.5692747Z",
              "execution_finish_time": "2024-03-17T23:07:10.9824649Z",
              "spark_jobs": null,
              "parent_msg_id": "0572b5f5-1893-4449-a4af-1633e950a4ee"
            },
            "text/plain": "StatementMeta(sparkPool01, 10, 130, Finished, Available)"
          },
          "metadata": {}
        },
        {
          "output_type": "stream",
          "name": "stdout",
          "text": [
            "Iteration 1 of 255\nFeature columns: ('From',)\nDropped columns: ['To', 'Avg_Duration', 'Total_Duration', 'Avg_Bytes', 'Total_Bytes', 'Count', 'Hop_Count', 'Id']\nIteration 2 of 255\nFeature columns: ('To',)\nDropped columns: ['From', 'Avg_Duration', 'Total_Duration', 'Avg_Bytes', 'Total_Bytes', 'Count', 'Hop_Count', 'Id']\nIteration 3 of 255\nFeature columns: ('Avg_Duration',)\nDropped columns: ['From', 'To', 'Total_Duration', 'Avg_Bytes', 'Total_Bytes', 'Count', 'Hop_Count', 'Id']\nIteration 4 of 255\nFeature columns: ('Total_Duration',)\nDropped columns: ['From', 'To', 'Avg_Duration', 'Avg_Bytes', 'Total_Bytes', 'Count', 'Hop_Count', 'Id']\nIteration 5 of 255\nFeature columns: ('Avg_Bytes',)\nDropped columns: ['From', 'To', 'Avg_Duration', 'Total_Duration', 'Total_Bytes', 'Count', 'Hop_Count', 'Id']\nIteration 6 of 255\nFeature columns: ('Total_Bytes',)\nDropped columns: ['From', 'To', 'Avg_Duration', 'Total_Duration', 'Avg_Bytes', 'Count', 'Hop_Count', 'Id']\nIteration 7 of 255\nFeature columns: ('Count',)\nDropped columns: ['From', 'To', 'Avg_Duration', 'Total_Duration', 'Avg_Bytes', 'Total_Bytes', 'Hop_Count', 'Id']\nIteration 8 of 255\nFeature columns: ('Hop_Count',)\nDropped columns: ['From', 'To', 'Avg_Duration', 'Total_Duration', 'Avg_Bytes', 'Total_Bytes', 'Count', 'Id']\nIteration 9 of 255\nFeature columns: ('From', 'To')\nDropped columns: ['Avg_Duration', 'Total_Duration', 'Avg_Bytes', 'Total_Bytes', 'Count', 'Hop_Count', 'Id']\nIteration 10 of 255\nFeature columns: ('From', 'Avg_Duration')\nDropped columns: ['To', 'Total_Duration', 'Avg_Bytes', 'Total_Bytes', 'Count', 'Hop_Count', 'Id']\nIteration 11 of 255\nFeature columns: ('From', 'Total_Duration')\nDropped columns: ['To', 'Avg_Duration', 'Avg_Bytes', 'Total_Bytes', 'Count', 'Hop_Count', 'Id']\nIteration 12 of 255\nFeature columns: ('From', 'Avg_Bytes')\nDropped columns: ['To', 'Avg_Duration', 'Total_Duration', 'Total_Bytes', 'Count', 'Hop_Count', 'Id']\nIteration 13 of 255\nFeature columns: ('From', 'Total_Bytes')\nDropped columns: ['To', 'Avg_Duration', 'Total_Duration', 'Avg_Bytes', 'Count', 'Hop_Count', 'Id']\nIteration 14 of 255\nFeature columns: ('From', 'Count')\nDropped columns: ['To', 'Avg_Duration', 'Total_Duration', 'Avg_Bytes', 'Total_Bytes', 'Hop_Count', 'Id']\nIteration 15 of 255\nFeature columns: ('From', 'Hop_Count')\nDropped columns: ['To', 'Avg_Duration', 'Total_Duration', 'Avg_Bytes', 'Total_Bytes', 'Count', 'Id']\nIteration 16 of 255\nFeature columns: ('To', 'Avg_Duration')\nDropped columns: ['From', 'Total_Duration', 'Avg_Bytes', 'Total_Bytes', 'Count', 'Hop_Count', 'Id']\nIteration 17 of 255\nFeature columns: ('To', 'Total_Duration')\nDropped columns: ['From', 'Avg_Duration', 'Avg_Bytes', 'Total_Bytes', 'Count', 'Hop_Count', 'Id']\nIteration 18 of 255\nFeature columns: ('To', 'Avg_Bytes')\nDropped columns: ['From', 'Avg_Duration', 'Total_Duration', 'Total_Bytes', 'Count', 'Hop_Count', 'Id']\nIteration 19 of 255\nFeature columns: ('To', 'Total_Bytes')\nDropped columns: ['From', 'Avg_Duration', 'Total_Duration', 'Avg_Bytes', 'Count', 'Hop_Count', 'Id']\nIteration 20 of 255\nFeature columns: ('To', 'Count')\nDropped columns: ['From', 'Avg_Duration', 'Total_Duration', 'Avg_Bytes', 'Total_Bytes', 'Hop_Count', 'Id']\nIteration 21 of 255\nFeature columns: ('To', 'Hop_Count')\nDropped columns: ['From', 'Avg_Duration', 'Total_Duration', 'Avg_Bytes', 'Total_Bytes', 'Count', 'Id']\nIteration 22 of 255\nFeature columns: ('Avg_Duration', 'Total_Duration')\nDropped columns: ['From', 'To', 'Avg_Bytes', 'Total_Bytes', 'Count', 'Hop_Count', 'Id']\nIteration 23 of 255\nFeature columns: ('Avg_Duration', 'Avg_Bytes')\nDropped columns: ['From', 'To', 'Total_Duration', 'Total_Bytes', 'Count', 'Hop_Count', 'Id']\nIteration 24 of 255\nFeature columns: ('Avg_Duration', 'Total_Bytes')\nDropped columns: ['From', 'To', 'Total_Duration', 'Avg_Bytes', 'Count', 'Hop_Count', 'Id']\nIteration 25 of 255\nFeature columns: ('Avg_Duration', 'Count')\nDropped columns: ['From', 'To', 'Total_Duration', 'Avg_Bytes', 'Total_Bytes', 'Hop_Count', 'Id']\nIteration 26 of 255\nFeature columns: ('Avg_Duration', 'Hop_Count')\nDropped columns: ['From', 'To', 'Total_Duration', 'Avg_Bytes', 'Total_Bytes', 'Count', 'Id']\nIteration 27 of 255\nFeature columns: ('Total_Duration', 'Avg_Bytes')\nDropped columns: ['From', 'To', 'Avg_Duration', 'Total_Bytes', 'Count', 'Hop_Count', 'Id']\nIteration 28 of 255\nFeature columns: ('Total_Duration', 'Total_Bytes')\nDropped columns: ['From', 'To', 'Avg_Duration', 'Avg_Bytes', 'Count', 'Hop_Count', 'Id']\nIteration 29 of 255\nFeature columns: ('Total_Duration', 'Count')\nDropped columns: ['From', 'To', 'Avg_Duration', 'Avg_Bytes', 'Total_Bytes', 'Hop_Count', 'Id']\nIteration 30 of 255\nFeature columns: ('Total_Duration', 'Hop_Count')\nDropped columns: ['From', 'To', 'Avg_Duration', 'Avg_Bytes', 'Total_Bytes', 'Count', 'Id']\nIteration 31 of 255\nFeature columns: ('Avg_Bytes', 'Total_Bytes')\nDropped columns: ['From', 'To', 'Avg_Duration', 'Total_Duration', 'Count', 'Hop_Count', 'Id']\nIteration 32 of 255\nFeature columns: ('Avg_Bytes', 'Count')\nDropped columns: ['From', 'To', 'Avg_Duration', 'Total_Duration', 'Total_Bytes', 'Hop_Count', 'Id']\nIteration 33 of 255\nFeature columns: ('Avg_Bytes', 'Hop_Count')\nDropped columns: ['From', 'To', 'Avg_Duration', 'Total_Duration', 'Total_Bytes', 'Count', 'Id']\nIteration 34 of 255\nFeature columns: ('Total_Bytes', 'Count')\nDropped columns: ['From', 'To', 'Avg_Duration', 'Total_Duration', 'Avg_Bytes', 'Hop_Count', 'Id']\nIteration 35 of 255\nFeature columns: ('Total_Bytes', 'Hop_Count')\nDropped columns: ['From', 'To', 'Avg_Duration', 'Total_Duration', 'Avg_Bytes', 'Count', 'Id']\nIteration 36 of 255\nFeature columns: ('Count', 'Hop_Count')\nDropped columns: ['From', 'To', 'Avg_Duration', 'Total_Duration', 'Avg_Bytes', 'Total_Bytes', 'Id']\nIteration 37 of 255\nFeature columns: ('From', 'To', 'Avg_Duration')\nDropped columns: ['Total_Duration', 'Avg_Bytes', 'Total_Bytes', 'Count', 'Hop_Count', 'Id']\nIteration 38 of 255\nFeature columns: ('From', 'To', 'Total_Duration')\nDropped columns: ['Avg_Duration', 'Avg_Bytes', 'Total_Bytes', 'Count', 'Hop_Count', 'Id']\nIteration 39 of 255\nFeature columns: ('From', 'To', 'Avg_Bytes')\nDropped columns: ['Avg_Duration', 'Total_Duration', 'Total_Bytes', 'Count', 'Hop_Count', 'Id']\nIteration 40 of 255\nFeature columns: ('From', 'To', 'Total_Bytes')\nDropped columns: ['Avg_Duration', 'Total_Duration', 'Avg_Bytes', 'Count', 'Hop_Count', 'Id']\nIteration 41 of 255\nFeature columns: ('From', 'To', 'Count')\nDropped columns: ['Avg_Duration', 'Total_Duration', 'Avg_Bytes', 'Total_Bytes', 'Hop_Count', 'Id']\nIteration 42 of 255\nFeature columns: ('From', 'To', 'Hop_Count')\nDropped columns: ['Avg_Duration', 'Total_Duration', 'Avg_Bytes', 'Total_Bytes', 'Count', 'Id']\nIteration 43 of 255\nFeature columns: ('From', 'Avg_Duration', 'Total_Duration')\nDropped columns: ['To', 'Avg_Bytes', 'Total_Bytes', 'Count', 'Hop_Count', 'Id']\nIteration 44 of 255\nFeature columns: ('From', 'Avg_Duration', 'Avg_Bytes')\nDropped columns: ['To', 'Total_Duration', 'Total_Bytes', 'Count', 'Hop_Count', 'Id']\nIteration 45 of 255\nFeature columns: ('From', 'Avg_Duration', 'Total_Bytes')\nDropped columns: ['To', 'Total_Duration', 'Avg_Bytes', 'Count', 'Hop_Count', 'Id']\nIteration 46 of 255\nFeature columns: ('From', 'Avg_Duration', 'Count')\nDropped columns: ['To', 'Total_Duration', 'Avg_Bytes', 'Total_Bytes', 'Hop_Count', 'Id']\nIteration 47 of 255\nFeature columns: ('From', 'Avg_Duration', 'Hop_Count')\nDropped columns: ['To', 'Total_Duration', 'Avg_Bytes', 'Total_Bytes', 'Count', 'Id']\nIteration 48 of 255\nFeature columns: ('From', 'Total_Duration', 'Avg_Bytes')\nDropped columns: ['To', 'Avg_Duration', 'Total_Bytes', 'Count', 'Hop_Count', 'Id']\nIteration 49 of 255\nFeature columns: ('From', 'Total_Duration', 'Total_Bytes')\nDropped columns: ['To', 'Avg_Duration', 'Avg_Bytes', 'Count', 'Hop_Count', 'Id']\nIteration 50 of 255\nFeature columns: ('From', 'Total_Duration', 'Count')\nDropped columns: ['To', 'Avg_Duration', 'Avg_Bytes', 'Total_Bytes', 'Hop_Count', 'Id']\nIteration 51 of 255\nFeature columns: ('From', 'Total_Duration', 'Hop_Count')\nDropped columns: ['To', 'Avg_Duration', 'Avg_Bytes', 'Total_Bytes', 'Count', 'Id']\nIteration 52 of 255\nFeature columns: ('From', 'Avg_Bytes', 'Total_Bytes')\nDropped columns: ['To', 'Avg_Duration', 'Total_Duration', 'Count', 'Hop_Count', 'Id']\nIteration 53 of 255\nFeature columns: ('From', 'Avg_Bytes', 'Count')\nDropped columns: ['To', 'Avg_Duration', 'Total_Duration', 'Total_Bytes', 'Hop_Count', 'Id']\nIteration 54 of 255\nFeature columns: ('From', 'Avg_Bytes', 'Hop_Count')\nDropped columns: ['To', 'Avg_Duration', 'Total_Duration', 'Total_Bytes', 'Count', 'Id']\nIteration 55 of 255\nFeature columns: ('From', 'Total_Bytes', 'Count')\nDropped columns: ['To', 'Avg_Duration', 'Total_Duration', 'Avg_Bytes', 'Hop_Count', 'Id']\nIteration 56 of 255\nFeature columns: ('From', 'Total_Bytes', 'Hop_Count')\nDropped columns: ['To', 'Avg_Duration', 'Total_Duration', 'Avg_Bytes', 'Count', 'Id']\nIteration 57 of 255\nFeature columns: ('From', 'Count', 'Hop_Count')\nDropped columns: ['To', 'Avg_Duration', 'Total_Duration', 'Avg_Bytes', 'Total_Bytes', 'Id']\nIteration 58 of 255\nFeature columns: ('To', 'Avg_Duration', 'Total_Duration')\nDropped columns: ['From', 'Avg_Bytes', 'Total_Bytes', 'Count', 'Hop_Count', 'Id']\nIteration 59 of 255\nFeature columns: ('To', 'Avg_Duration', 'Avg_Bytes')\nDropped columns: ['From', 'Total_Duration', 'Total_Bytes', 'Count', 'Hop_Count', 'Id']\nIteration 60 of 255\nFeature columns: ('To', 'Avg_Duration', 'Total_Bytes')\nDropped columns: ['From', 'Total_Duration', 'Avg_Bytes', 'Count', 'Hop_Count', 'Id']\nIteration 61 of 255\nFeature columns: ('To', 'Avg_Duration', 'Count')\nDropped columns: ['From', 'Total_Duration', 'Avg_Bytes', 'Total_Bytes', 'Hop_Count', 'Id']\nIteration 62 of 255\nFeature columns: ('To', 'Avg_Duration', 'Hop_Count')\nDropped columns: ['From', 'Total_Duration', 'Avg_Bytes', 'Total_Bytes', 'Count', 'Id']\nIteration 63 of 255\nFeature columns: ('To', 'Total_Duration', 'Avg_Bytes')\nDropped columns: ['From', 'Avg_Duration', 'Total_Bytes', 'Count', 'Hop_Count', 'Id']\nIteration 64 of 255\nFeature columns: ('To', 'Total_Duration', 'Total_Bytes')\nDropped columns: ['From', 'Avg_Duration', 'Avg_Bytes', 'Count', 'Hop_Count', 'Id']\nIteration 65 of 255\nFeature columns: ('To', 'Total_Duration', 'Count')\nDropped columns: ['From', 'Avg_Duration', 'Avg_Bytes', 'Total_Bytes', 'Hop_Count', 'Id']\nIteration 66 of 255\nFeature columns: ('To', 'Total_Duration', 'Hop_Count')\nDropped columns: ['From', 'Avg_Duration', 'Avg_Bytes', 'Total_Bytes', 'Count', 'Id']\nIteration 67 of 255\nFeature columns: ('To', 'Avg_Bytes', 'Total_Bytes')\nDropped columns: ['From', 'Avg_Duration', 'Total_Duration', 'Count', 'Hop_Count', 'Id']\nIteration 68 of 255\nFeature columns: ('To', 'Avg_Bytes', 'Count')\nDropped columns: ['From', 'Avg_Duration', 'Total_Duration', 'Total_Bytes', 'Hop_Count', 'Id']\nIteration 69 of 255\nFeature columns: ('To', 'Avg_Bytes', 'Hop_Count')\nDropped columns: ['From', 'Avg_Duration', 'Total_Duration', 'Total_Bytes', 'Count', 'Id']\nIteration 70 of 255\nFeature columns: ('To', 'Total_Bytes', 'Count')\nDropped columns: ['From', 'Avg_Duration', 'Total_Duration', 'Avg_Bytes', 'Hop_Count', 'Id']\nIteration 71 of 255\nFeature columns: ('To', 'Total_Bytes', 'Hop_Count')\nDropped columns: ['From', 'Avg_Duration', 'Total_Duration', 'Avg_Bytes', 'Count', 'Id']\nIteration 72 of 255\nFeature columns: ('To', 'Count', 'Hop_Count')\nDropped columns: ['From', 'Avg_Duration', 'Total_Duration', 'Avg_Bytes', 'Total_Bytes', 'Id']\nIteration 73 of 255\nFeature columns: ('Avg_Duration', 'Total_Duration', 'Avg_Bytes')\nDropped columns: ['From', 'To', 'Total_Bytes', 'Count', 'Hop_Count', 'Id']\nIteration 74 of 255\nFeature columns: ('Avg_Duration', 'Total_Duration', 'Total_Bytes')\nDropped columns: ['From', 'To', 'Avg_Bytes', 'Count', 'Hop_Count', 'Id']\nIteration 75 of 255\nFeature columns: ('Avg_Duration', 'Total_Duration', 'Count')\nDropped columns: ['From', 'To', 'Avg_Bytes', 'Total_Bytes', 'Hop_Count', 'Id']\nIteration 76 of 255\nFeature columns: ('Avg_Duration', 'Total_Duration', 'Hop_Count')\nDropped columns: ['From', 'To', 'Avg_Bytes', 'Total_Bytes', 'Count', 'Id']\nIteration 77 of 255\nFeature columns: ('Avg_Duration', 'Avg_Bytes', 'Total_Bytes')\nDropped columns: ['From', 'To', 'Total_Duration', 'Count', 'Hop_Count', 'Id']\nIteration 78 of 255\nFeature columns: ('Avg_Duration', 'Avg_Bytes', 'Count')\nDropped columns: ['From', 'To', 'Total_Duration', 'Total_Bytes', 'Hop_Count', 'Id']\nIteration 79 of 255\nFeature columns: ('Avg_Duration', 'Avg_Bytes', 'Hop_Count')\nDropped columns: ['From', 'To', 'Total_Duration', 'Total_Bytes', 'Count', 'Id']\nIteration 80 of 255\nFeature columns: ('Avg_Duration', 'Total_Bytes', 'Count')\nDropped columns: ['From', 'To', 'Total_Duration', 'Avg_Bytes', 'Hop_Count', 'Id']\nIteration 81 of 255\nFeature columns: ('Avg_Duration', 'Total_Bytes', 'Hop_Count')\nDropped columns: ['From', 'To', 'Total_Duration', 'Avg_Bytes', 'Count', 'Id']\nIteration 82 of 255\nFeature columns: ('Avg_Duration', 'Count', 'Hop_Count')\nDropped columns: ['From', 'To', 'Total_Duration', 'Avg_Bytes', 'Total_Bytes', 'Id']\nIteration 83 of 255\nFeature columns: ('Total_Duration', 'Avg_Bytes', 'Total_Bytes')\nDropped columns: ['From', 'To', 'Avg_Duration', 'Count', 'Hop_Count', 'Id']\nIteration 84 of 255\nFeature columns: ('Total_Duration', 'Avg_Bytes', 'Count')\nDropped columns: ['From', 'To', 'Avg_Duration', 'Total_Bytes', 'Hop_Count', 'Id']\nIteration 85 of 255\nFeature columns: ('Total_Duration', 'Avg_Bytes', 'Hop_Count')\nDropped columns: ['From', 'To', 'Avg_Duration', 'Total_Bytes', 'Count', 'Id']\nIteration 86 of 255\nFeature columns: ('Total_Duration', 'Total_Bytes', 'Count')\nDropped columns: ['From', 'To', 'Avg_Duration', 'Avg_Bytes', 'Hop_Count', 'Id']\nIteration 87 of 255\nFeature columns: ('Total_Duration', 'Total_Bytes', 'Hop_Count')\nDropped columns: ['From', 'To', 'Avg_Duration', 'Avg_Bytes', 'Count', 'Id']\nIteration 88 of 255\nFeature columns: ('Total_Duration', 'Count', 'Hop_Count')\nDropped columns: ['From', 'To', 'Avg_Duration', 'Avg_Bytes', 'Total_Bytes', 'Id']\nIteration 89 of 255\nFeature columns: ('Avg_Bytes', 'Total_Bytes', 'Count')\nDropped columns: ['From', 'To', 'Avg_Duration', 'Total_Duration', 'Hop_Count', 'Id']\nIteration 90 of 255\nFeature columns: ('Avg_Bytes', 'Total_Bytes', 'Hop_Count')\nDropped columns: ['From', 'To', 'Avg_Duration', 'Total_Duration', 'Count', 'Id']\nIteration 91 of 255\nFeature columns: ('Avg_Bytes', 'Count', 'Hop_Count')\nDropped columns: ['From', 'To', 'Avg_Duration', 'Total_Duration', 'Total_Bytes', 'Id']\nIteration 92 of 255\nFeature columns: ('Total_Bytes', 'Count', 'Hop_Count')\nDropped columns: ['From', 'To', 'Avg_Duration', 'Total_Duration', 'Avg_Bytes', 'Id']\nIteration 93 of 255\nFeature columns: ('From', 'To', 'Avg_Duration', 'Total_Duration')\nDropped columns: ['Avg_Bytes', 'Total_Bytes', 'Count', 'Hop_Count', 'Id']\nIteration 94 of 255\nFeature columns: ('From', 'To', 'Avg_Duration', 'Avg_Bytes')\nDropped columns: ['Total_Duration', 'Total_Bytes', 'Count', 'Hop_Count', 'Id']\nIteration 95 of 255\nFeature columns: ('From', 'To', 'Avg_Duration', 'Total_Bytes')\nDropped columns: ['Total_Duration', 'Avg_Bytes', 'Count', 'Hop_Count', 'Id']\nIteration 96 of 255\nFeature columns: ('From', 'To', 'Avg_Duration', 'Count')\nDropped columns: ['Total_Duration', 'Avg_Bytes', 'Total_Bytes', 'Hop_Count', 'Id']\nIteration 97 of 255\nFeature columns: ('From', 'To', 'Avg_Duration', 'Hop_Count')\nDropped columns: ['Total_Duration', 'Avg_Bytes', 'Total_Bytes', 'Count', 'Id']\nIteration 98 of 255\nFeature columns: ('From', 'To', 'Total_Duration', 'Avg_Bytes')\nDropped columns: ['Avg_Duration', 'Total_Bytes', 'Count', 'Hop_Count', 'Id']\nIteration 99 of 255\nFeature columns: ('From', 'To', 'Total_Duration', 'Total_Bytes')\nDropped columns: ['Avg_Duration', 'Avg_Bytes', 'Count', 'Hop_Count', 'Id']\nIteration 100 of 255\nFeature columns: ('From', 'To', 'Total_Duration', 'Count')\nDropped columns: ['Avg_Duration', 'Avg_Bytes', 'Total_Bytes', 'Hop_Count', 'Id']\nIteration 101 of 255\nFeature columns: ('From', 'To', 'Total_Duration', 'Hop_Count')\nDropped columns: ['Avg_Duration', 'Avg_Bytes', 'Total_Bytes', 'Count', 'Id']\nIteration 102 of 255\nFeature columns: ('From', 'To', 'Avg_Bytes', 'Total_Bytes')\nDropped columns: ['Avg_Duration', 'Total_Duration', 'Count', 'Hop_Count', 'Id']\nIteration 103 of 255\nFeature columns: ('From', 'To', 'Avg_Bytes', 'Count')\nDropped columns: ['Avg_Duration', 'Total_Duration', 'Total_Bytes', 'Hop_Count', 'Id']\nIteration 104 of 255\nFeature columns: ('From', 'To', 'Avg_Bytes', 'Hop_Count')\nDropped columns: ['Avg_Duration', 'Total_Duration', 'Total_Bytes', 'Count', 'Id']\nIteration 105 of 255\nFeature columns: ('From', 'To', 'Total_Bytes', 'Count')\nDropped columns: ['Avg_Duration', 'Total_Duration', 'Avg_Bytes', 'Hop_Count', 'Id']\nIteration 106 of 255\nFeature columns: ('From', 'To', 'Total_Bytes', 'Hop_Count')\nDropped columns: ['Avg_Duration', 'Total_Duration', 'Avg_Bytes', 'Count', 'Id']\nIteration 107 of 255\nFeature columns: ('From', 'To', 'Count', 'Hop_Count')\nDropped columns: ['Avg_Duration', 'Total_Duration', 'Avg_Bytes', 'Total_Bytes', 'Id']\nIteration 108 of 255\nFeature columns: ('From', 'Avg_Duration', 'Total_Duration', 'Avg_Bytes')\nDropped columns: ['To', 'Total_Bytes', 'Count', 'Hop_Count', 'Id']\nIteration 109 of 255\nFeature columns: ('From', 'Avg_Duration', 'Total_Duration', 'Total_Bytes')\nDropped columns: ['To', 'Avg_Bytes', 'Count', 'Hop_Count', 'Id']\nIteration 110 of 255\nFeature columns: ('From', 'Avg_Duration', 'Total_Duration', 'Count')\nDropped columns: ['To', 'Avg_Bytes', 'Total_Bytes', 'Hop_Count', 'Id']\nIteration 111 of 255\nFeature columns: ('From', 'Avg_Duration', 'Total_Duration', 'Hop_Count')\nDropped columns: ['To', 'Avg_Bytes', 'Total_Bytes', 'Count', 'Id']\nIteration 112 of 255\nFeature columns: ('From', 'Avg_Duration', 'Avg_Bytes', 'Total_Bytes')\nDropped columns: ['To', 'Total_Duration', 'Count', 'Hop_Count', 'Id']\nIteration 113 of 255\nFeature columns: ('From', 'Avg_Duration', 'Avg_Bytes', 'Count')\nDropped columns: ['To', 'Total_Duration', 'Total_Bytes', 'Hop_Count', 'Id']\nIteration 114 of 255\nFeature columns: ('From', 'Avg_Duration', 'Avg_Bytes', 'Hop_Count')\nDropped columns: ['To', 'Total_Duration', 'Total_Bytes', 'Count', 'Id']\nIteration 115 of 255\nFeature columns: ('From', 'Avg_Duration', 'Total_Bytes', 'Count')\nDropped columns: ['To', 'Total_Duration', 'Avg_Bytes', 'Hop_Count', 'Id']\nIteration 116 of 255\nFeature columns: ('From', 'Avg_Duration', 'Total_Bytes', 'Hop_Count')\nDropped columns: ['To', 'Total_Duration', 'Avg_Bytes', 'Count', 'Id']\nIteration 117 of 255\nFeature columns: ('From', 'Avg_Duration', 'Count', 'Hop_Count')\nDropped columns: ['To', 'Total_Duration', 'Avg_Bytes', 'Total_Bytes', 'Id']\nIteration 118 of 255\nFeature columns: ('From', 'Total_Duration', 'Avg_Bytes', 'Total_Bytes')\nDropped columns: ['To', 'Avg_Duration', 'Count', 'Hop_Count', 'Id']\nIteration 119 of 255\nFeature columns: ('From', 'Total_Duration', 'Avg_Bytes', 'Count')\nDropped columns: ['To', 'Avg_Duration', 'Total_Bytes', 'Hop_Count', 'Id']\nIteration 120 of 255\nFeature columns: ('From', 'Total_Duration', 'Avg_Bytes', 'Hop_Count')\nDropped columns: ['To', 'Avg_Duration', 'Total_Bytes', 'Count', 'Id']\nIteration 121 of 255\nFeature columns: ('From', 'Total_Duration', 'Total_Bytes', 'Count')\nDropped columns: ['To', 'Avg_Duration', 'Avg_Bytes', 'Hop_Count', 'Id']\nIteration 122 of 255\nFeature columns: ('From', 'Total_Duration', 'Total_Bytes', 'Hop_Count')\nDropped columns: ['To', 'Avg_Duration', 'Avg_Bytes', 'Count', 'Id']\nIteration 123 of 255\nFeature columns: ('From', 'Total_Duration', 'Count', 'Hop_Count')\nDropped columns: ['To', 'Avg_Duration', 'Avg_Bytes', 'Total_Bytes', 'Id']\nIteration 124 of 255\nFeature columns: ('From', 'Avg_Bytes', 'Total_Bytes', 'Count')\nDropped columns: ['To', 'Avg_Duration', 'Total_Duration', 'Hop_Count', 'Id']\nIteration 125 of 255\nFeature columns: ('From', 'Avg_Bytes', 'Total_Bytes', 'Hop_Count')\nDropped columns: ['To', 'Avg_Duration', 'Total_Duration', 'Count', 'Id']\nIteration 126 of 255\nFeature columns: ('From', 'Avg_Bytes', 'Count', 'Hop_Count')\nDropped columns: ['To', 'Avg_Duration', 'Total_Duration', 'Total_Bytes', 'Id']\nIteration 127 of 255\nFeature columns: ('From', 'Total_Bytes', 'Count', 'Hop_Count')\nDropped columns: ['To', 'Avg_Duration', 'Total_Duration', 'Avg_Bytes', 'Id']\nIteration 128 of 255\nFeature columns: ('To', 'Avg_Duration', 'Total_Duration', 'Avg_Bytes')\nDropped columns: ['From', 'Total_Bytes', 'Count', 'Hop_Count', 'Id']\nIteration 129 of 255\nFeature columns: ('To', 'Avg_Duration', 'Total_Duration', 'Total_Bytes')\nDropped columns: ['From', 'Avg_Bytes', 'Count', 'Hop_Count', 'Id']\nIteration 130 of 255\nFeature columns: ('To', 'Avg_Duration', 'Total_Duration', 'Count')\nDropped columns: ['From', 'Avg_Bytes', 'Total_Bytes', 'Hop_Count', 'Id']\nIteration 131 of 255\nFeature columns: ('To', 'Avg_Duration', 'Total_Duration', 'Hop_Count')\nDropped columns: ['From', 'Avg_Bytes', 'Total_Bytes', 'Count', 'Id']\nIteration 132 of 255\nFeature columns: ('To', 'Avg_Duration', 'Avg_Bytes', 'Total_Bytes')\nDropped columns: ['From', 'Total_Duration', 'Count', 'Hop_Count', 'Id']\nIteration 133 of 255\nFeature columns: ('To', 'Avg_Duration', 'Avg_Bytes', 'Count')\nDropped columns: ['From', 'Total_Duration', 'Total_Bytes', 'Hop_Count', 'Id']\nIteration 134 of 255\nFeature columns: ('To', 'Avg_Duration', 'Avg_Bytes', 'Hop_Count')\nDropped columns: ['From', 'Total_Duration', 'Total_Bytes', 'Count', 'Id']\nIteration 135 of 255\nFeature columns: ('To', 'Avg_Duration', 'Total_Bytes', 'Count')\nDropped columns: ['From', 'Total_Duration', 'Avg_Bytes', 'Hop_Count', 'Id']\nIteration 136 of 255\nFeature columns: ('To', 'Avg_Duration', 'Total_Bytes', 'Hop_Count')\nDropped columns: ['From', 'Total_Duration', 'Avg_Bytes', 'Count', 'Id']\nIteration 137 of 255\nFeature columns: ('To', 'Avg_Duration', 'Count', 'Hop_Count')\nDropped columns: ['From', 'Total_Duration', 'Avg_Bytes', 'Total_Bytes', 'Id']\nIteration 138 of 255\nFeature columns: ('To', 'Total_Duration', 'Avg_Bytes', 'Total_Bytes')\nDropped columns: ['From', 'Avg_Duration', 'Count', 'Hop_Count', 'Id']\nIteration 139 of 255\nFeature columns: ('To', 'Total_Duration', 'Avg_Bytes', 'Count')\nDropped columns: ['From', 'Avg_Duration', 'Total_Bytes', 'Hop_Count', 'Id']\nIteration 140 of 255\nFeature columns: ('To', 'Total_Duration', 'Avg_Bytes', 'Hop_Count')\nDropped columns: ['From', 'Avg_Duration', 'Total_Bytes', 'Count', 'Id']\nIteration 141 of 255\nFeature columns: ('To', 'Total_Duration', 'Total_Bytes', 'Count')\nDropped columns: ['From', 'Avg_Duration', 'Avg_Bytes', 'Hop_Count', 'Id']\nIteration 142 of 255\nFeature columns: ('To', 'Total_Duration', 'Total_Bytes', 'Hop_Count')\nDropped columns: ['From', 'Avg_Duration', 'Avg_Bytes', 'Count', 'Id']\nIteration 143 of 255\nFeature columns: ('To', 'Total_Duration', 'Count', 'Hop_Count')\nDropped columns: ['From', 'Avg_Duration', 'Avg_Bytes', 'Total_Bytes', 'Id']\nIteration 144 of 255\nFeature columns: ('To', 'Avg_Bytes', 'Total_Bytes', 'Count')\nDropped columns: ['From', 'Avg_Duration', 'Total_Duration', 'Hop_Count', 'Id']\nIteration 145 of 255\nFeature columns: ('To', 'Avg_Bytes', 'Total_Bytes', 'Hop_Count')\nDropped columns: ['From', 'Avg_Duration', 'Total_Duration', 'Count', 'Id']\nIteration 146 of 255\nFeature columns: ('To', 'Avg_Bytes', 'Count', 'Hop_Count')\nDropped columns: ['From', 'Avg_Duration', 'Total_Duration', 'Total_Bytes', 'Id']\nIteration 147 of 255\nFeature columns: ('To', 'Total_Bytes', 'Count', 'Hop_Count')\nDropped columns: ['From', 'Avg_Duration', 'Total_Duration', 'Avg_Bytes', 'Id']\nIteration 148 of 255\nFeature columns: ('Avg_Duration', 'Total_Duration', 'Avg_Bytes', 'Total_Bytes')\nDropped columns: ['From', 'To', 'Count', 'Hop_Count', 'Id']\nIteration 149 of 255\nFeature columns: ('Avg_Duration', 'Total_Duration', 'Avg_Bytes', 'Count')\nDropped columns: ['From', 'To', 'Total_Bytes', 'Hop_Count', 'Id']\nIteration 150 of 255\nFeature columns: ('Avg_Duration', 'Total_Duration', 'Avg_Bytes', 'Hop_Count')\nDropped columns: ['From', 'To', 'Total_Bytes', 'Count', 'Id']\nIteration 151 of 255\nFeature columns: ('Avg_Duration', 'Total_Duration', 'Total_Bytes', 'Count')\nDropped columns: ['From', 'To', 'Avg_Bytes', 'Hop_Count', 'Id']\nIteration 152 of 255\nFeature columns: ('Avg_Duration', 'Total_Duration', 'Total_Bytes', 'Hop_Count')\nDropped columns: ['From', 'To', 'Avg_Bytes', 'Count', 'Id']\nIteration 153 of 255\nFeature columns: ('Avg_Duration', 'Total_Duration', 'Count', 'Hop_Count')\nDropped columns: ['From', 'To', 'Avg_Bytes', 'Total_Bytes', 'Id']\nIteration 154 of 255\nFeature columns: ('Avg_Duration', 'Avg_Bytes', 'Total_Bytes', 'Count')\nDropped columns: ['From', 'To', 'Total_Duration', 'Hop_Count', 'Id']\nIteration 155 of 255\nFeature columns: ('Avg_Duration', 'Avg_Bytes', 'Total_Bytes', 'Hop_Count')\nDropped columns: ['From', 'To', 'Total_Duration', 'Count', 'Id']\nIteration 156 of 255\nFeature columns: ('Avg_Duration', 'Avg_Bytes', 'Count', 'Hop_Count')\nDropped columns: ['From', 'To', 'Total_Duration', 'Total_Bytes', 'Id']\nIteration 157 of 255\nFeature columns: ('Avg_Duration', 'Total_Bytes', 'Count', 'Hop_Count')\nDropped columns: ['From', 'To', 'Total_Duration', 'Avg_Bytes', 'Id']\nIteration 158 of 255\nFeature columns: ('Total_Duration', 'Avg_Bytes', 'Total_Bytes', 'Count')\nDropped columns: ['From', 'To', 'Avg_Duration', 'Hop_Count', 'Id']\nIteration 159 of 255\nFeature columns: ('Total_Duration', 'Avg_Bytes', 'Total_Bytes', 'Hop_Count')\nDropped columns: ['From', 'To', 'Avg_Duration', 'Count', 'Id']\nIteration 160 of 255\nFeature columns: ('Total_Duration', 'Avg_Bytes', 'Count', 'Hop_Count')\nDropped columns: ['From', 'To', 'Avg_Duration', 'Total_Bytes', 'Id']\nIteration 161 of 255\nFeature columns: ('Total_Duration', 'Total_Bytes', 'Count', 'Hop_Count')\nDropped columns: ['From', 'To', 'Avg_Duration', 'Avg_Bytes', 'Id']\nIteration 162 of 255\nFeature columns: ('Avg_Bytes', 'Total_Bytes', 'Count', 'Hop_Count')\nDropped columns: ['From', 'To', 'Avg_Duration', 'Total_Duration', 'Id']\nIteration 163 of 255\nFeature columns: ('From', 'To', 'Avg_Duration', 'Total_Duration', 'Avg_Bytes')\nDropped columns: ['Total_Bytes', 'Count', 'Hop_Count', 'Id']\nIteration 164 of 255\nFeature columns: ('From', 'To', 'Avg_Duration', 'Total_Duration', 'Total_Bytes')\nDropped columns: ['Avg_Bytes', 'Count', 'Hop_Count', 'Id']\nIteration 165 of 255\nFeature columns: ('From', 'To', 'Avg_Duration', 'Total_Duration', 'Count')\nDropped columns: ['Avg_Bytes', 'Total_Bytes', 'Hop_Count', 'Id']\nIteration 166 of 255\nFeature columns: ('From', 'To', 'Avg_Duration', 'Total_Duration', 'Hop_Count')\nDropped columns: ['Avg_Bytes', 'Total_Bytes', 'Count', 'Id']\nIteration 167 of 255\nFeature columns: ('From', 'To', 'Avg_Duration', 'Avg_Bytes', 'Total_Bytes')\nDropped columns: ['Total_Duration', 'Count', 'Hop_Count', 'Id']\nIteration 168 of 255\nFeature columns: ('From', 'To', 'Avg_Duration', 'Avg_Bytes', 'Count')\nDropped columns: ['Total_Duration', 'Total_Bytes', 'Hop_Count', 'Id']\nIteration 169 of 255\nFeature columns: ('From', 'To', 'Avg_Duration', 'Avg_Bytes', 'Hop_Count')\nDropped columns: ['Total_Duration', 'Total_Bytes', 'Count', 'Id']\nIteration 170 of 255\nFeature columns: ('From', 'To', 'Avg_Duration', 'Total_Bytes', 'Count')\nDropped columns: ['Total_Duration', 'Avg_Bytes', 'Hop_Count', 'Id']\nIteration 171 of 255\nFeature columns: ('From', 'To', 'Avg_Duration', 'Total_Bytes', 'Hop_Count')\nDropped columns: ['Total_Duration', 'Avg_Bytes', 'Count', 'Id']\nIteration 172 of 255\nFeature columns: ('From', 'To', 'Avg_Duration', 'Count', 'Hop_Count')\nDropped columns: ['Total_Duration', 'Avg_Bytes', 'Total_Bytes', 'Id']\nIteration 173 of 255\nFeature columns: ('From', 'To', 'Total_Duration', 'Avg_Bytes', 'Total_Bytes')\nDropped columns: ['Avg_Duration', 'Count', 'Hop_Count', 'Id']\nIteration 174 of 255\nFeature columns: ('From', 'To', 'Total_Duration', 'Avg_Bytes', 'Count')\nDropped columns: ['Avg_Duration', 'Total_Bytes', 'Hop_Count', 'Id']\nIteration 175 of 255\nFeature columns: ('From', 'To', 'Total_Duration', 'Avg_Bytes', 'Hop_Count')\nDropped columns: ['Avg_Duration', 'Total_Bytes', 'Count', 'Id']\nIteration 176 of 255\nFeature columns: ('From', 'To', 'Total_Duration', 'Total_Bytes', 'Count')\nDropped columns: ['Avg_Duration', 'Avg_Bytes', 'Hop_Count', 'Id']\nIteration 177 of 255\nFeature columns: ('From', 'To', 'Total_Duration', 'Total_Bytes', 'Hop_Count')\nDropped columns: ['Avg_Duration', 'Avg_Bytes', 'Count', 'Id']\nIteration 178 of 255\nFeature columns: ('From', 'To', 'Total_Duration', 'Count', 'Hop_Count')\nDropped columns: ['Avg_Duration', 'Avg_Bytes', 'Total_Bytes', 'Id']\nIteration 179 of 255\nFeature columns: ('From', 'To', 'Avg_Bytes', 'Total_Bytes', 'Count')\nDropped columns: ['Avg_Duration', 'Total_Duration', 'Hop_Count', 'Id']\nIteration 180 of 255\nFeature columns: ('From', 'To', 'Avg_Bytes', 'Total_Bytes', 'Hop_Count')\nDropped columns: ['Avg_Duration', 'Total_Duration', 'Count', 'Id']\nIteration 181 of 255\nFeature columns: ('From', 'To', 'Avg_Bytes', 'Count', 'Hop_Count')\nDropped columns: ['Avg_Duration', 'Total_Duration', 'Total_Bytes', 'Id']\nIteration 182 of 255\nFeature columns: ('From', 'To', 'Total_Bytes', 'Count', 'Hop_Count')\nDropped columns: ['Avg_Duration', 'Total_Duration', 'Avg_Bytes', 'Id']\nIteration 183 of 255\nFeature columns: ('From', 'Avg_Duration', 'Total_Duration', 'Avg_Bytes', 'Total_Bytes')\nDropped columns: ['To', 'Count', 'Hop_Count', 'Id']\nIteration 184 of 255\nFeature columns: ('From', 'Avg_Duration', 'Total_Duration', 'Avg_Bytes', 'Count')\nDropped columns: ['To', 'Total_Bytes', 'Hop_Count', 'Id']\nIteration 185 of 255\nFeature columns: ('From', 'Avg_Duration', 'Total_Duration', 'Avg_Bytes', 'Hop_Count')\nDropped columns: ['To', 'Total_Bytes', 'Count', 'Id']\nIteration 186 of 255\nFeature columns: ('From', 'Avg_Duration', 'Total_Duration', 'Total_Bytes', 'Count')\nDropped columns: ['To', 'Avg_Bytes', 'Hop_Count', 'Id']\nIteration 187 of 255\nFeature columns: ('From', 'Avg_Duration', 'Total_Duration', 'Total_Bytes', 'Hop_Count')\nDropped columns: ['To', 'Avg_Bytes', 'Count', 'Id']\nIteration 188 of 255\nFeature columns: ('From', 'Avg_Duration', 'Total_Duration', 'Count', 'Hop_Count')\nDropped columns: ['To', 'Avg_Bytes', 'Total_Bytes', 'Id']\nIteration 189 of 255\nFeature columns: ('From', 'Avg_Duration', 'Avg_Bytes', 'Total_Bytes', 'Count')\nDropped columns: ['To', 'Total_Duration', 'Hop_Count', 'Id']\nIteration 190 of 255\nFeature columns: ('From', 'Avg_Duration', 'Avg_Bytes', 'Total_Bytes', 'Hop_Count')\nDropped columns: ['To', 'Total_Duration', 'Count', 'Id']\nIteration 191 of 255\nFeature columns: ('From', 'Avg_Duration', 'Avg_Bytes', 'Count', 'Hop_Count')\nDropped columns: ['To', 'Total_Duration', 'Total_Bytes', 'Id']\nIteration 192 of 255\nFeature columns: ('From', 'Avg_Duration', 'Total_Bytes', 'Count', 'Hop_Count')\nDropped columns: ['To', 'Total_Duration', 'Avg_Bytes', 'Id']\nIteration 193 of 255\nFeature columns: ('From', 'Total_Duration', 'Avg_Bytes', 'Total_Bytes', 'Count')\nDropped columns: ['To', 'Avg_Duration', 'Hop_Count', 'Id']\nIteration 194 of 255\nFeature columns: ('From', 'Total_Duration', 'Avg_Bytes', 'Total_Bytes', 'Hop_Count')\nDropped columns: ['To', 'Avg_Duration', 'Count', 'Id']\nIteration 195 of 255\nFeature columns: ('From', 'Total_Duration', 'Avg_Bytes', 'Count', 'Hop_Count')\nDropped columns: ['To', 'Avg_Duration', 'Total_Bytes', 'Id']\nIteration 196 of 255\nFeature columns: ('From', 'Total_Duration', 'Total_Bytes', 'Count', 'Hop_Count')\nDropped columns: ['To', 'Avg_Duration', 'Avg_Bytes', 'Id']\nIteration 197 of 255\nFeature columns: ('From', 'Avg_Bytes', 'Total_Bytes', 'Count', 'Hop_Count')\nDropped columns: ['To', 'Avg_Duration', 'Total_Duration', 'Id']\nIteration 198 of 255\nFeature columns: ('To', 'Avg_Duration', 'Total_Duration', 'Avg_Bytes', 'Total_Bytes')\nDropped columns: ['From', 'Count', 'Hop_Count', 'Id']\nIteration 199 of 255\nFeature columns: ('To', 'Avg_Duration', 'Total_Duration', 'Avg_Bytes', 'Count')\nDropped columns: ['From', 'Total_Bytes', 'Hop_Count', 'Id']\nIteration 200 of 255\nFeature columns: ('To', 'Avg_Duration', 'Total_Duration', 'Avg_Bytes', 'Hop_Count')\nDropped columns: ['From', 'Total_Bytes', 'Count', 'Id']\nIteration 201 of 255\nFeature columns: ('To', 'Avg_Duration', 'Total_Duration', 'Total_Bytes', 'Count')\nDropped columns: ['From', 'Avg_Bytes', 'Hop_Count', 'Id']\nIteration 202 of 255\nFeature columns: ('To', 'Avg_Duration', 'Total_Duration', 'Total_Bytes', 'Hop_Count')\nDropped columns: ['From', 'Avg_Bytes', 'Count', 'Id']\nIteration 203 of 255\nFeature columns: ('To', 'Avg_Duration', 'Total_Duration', 'Count', 'Hop_Count')\nDropped columns: ['From', 'Avg_Bytes', 'Total_Bytes', 'Id']\nIteration 204 of 255\nFeature columns: ('To', 'Avg_Duration', 'Avg_Bytes', 'Total_Bytes', 'Count')\nDropped columns: ['From', 'Total_Duration', 'Hop_Count', 'Id']\nIteration 205 of 255\nFeature columns: ('To', 'Avg_Duration', 'Avg_Bytes', 'Total_Bytes', 'Hop_Count')\nDropped columns: ['From', 'Total_Duration', 'Count', 'Id']\nIteration 206 of 255\nFeature columns: ('To', 'Avg_Duration', 'Avg_Bytes', 'Count', 'Hop_Count')\nDropped columns: ['From', 'Total_Duration', 'Total_Bytes', 'Id']\nIteration 207 of 255\nFeature columns: ('To', 'Avg_Duration', 'Total_Bytes', 'Count', 'Hop_Count')\nDropped columns: ['From', 'Total_Duration', 'Avg_Bytes', 'Id']\nIteration 208 of 255\nFeature columns: ('To', 'Total_Duration', 'Avg_Bytes', 'Total_Bytes', 'Count')\nDropped columns: ['From', 'Avg_Duration', 'Hop_Count', 'Id']\nIteration 209 of 255\nFeature columns: ('To', 'Total_Duration', 'Avg_Bytes', 'Total_Bytes', 'Hop_Count')\nDropped columns: ['From', 'Avg_Duration', 'Count', 'Id']\nIteration 210 of 255\nFeature columns: ('To', 'Total_Duration', 'Avg_Bytes', 'Count', 'Hop_Count')\nDropped columns: ['From', 'Avg_Duration', 'Total_Bytes', 'Id']\nIteration 211 of 255\nFeature columns: ('To', 'Total_Duration', 'Total_Bytes', 'Count', 'Hop_Count')\nDropped columns: ['From', 'Avg_Duration', 'Avg_Bytes', 'Id']\nIteration 212 of 255\nFeature columns: ('To', 'Avg_Bytes', 'Total_Bytes', 'Count', 'Hop_Count')\nDropped columns: ['From', 'Avg_Duration', 'Total_Duration', 'Id']\nIteration 213 of 255\nFeature columns: ('Avg_Duration', 'Total_Duration', 'Avg_Bytes', 'Total_Bytes', 'Count')\nDropped columns: ['From', 'To', 'Hop_Count', 'Id']\nIteration 214 of 255\nFeature columns: ('Avg_Duration', 'Total_Duration', 'Avg_Bytes', 'Total_Bytes', 'Hop_Count')\nDropped columns: ['From', 'To', 'Count', 'Id']\nIteration 215 of 255\nFeature columns: ('Avg_Duration', 'Total_Duration', 'Avg_Bytes', 'Count', 'Hop_Count')\nDropped columns: ['From', 'To', 'Total_Bytes', 'Id']\nIteration 216 of 255\nFeature columns: ('Avg_Duration', 'Total_Duration', 'Total_Bytes', 'Count', 'Hop_Count')\nDropped columns: ['From', 'To', 'Avg_Bytes', 'Id']\nIteration 217 of 255\nFeature columns: ('Avg_Duration', 'Avg_Bytes', 'Total_Bytes', 'Count', 'Hop_Count')\nDropped columns: ['From', 'To', 'Total_Duration', 'Id']\nIteration 218 of 255\nFeature columns: ('Total_Duration', 'Avg_Bytes', 'Total_Bytes', 'Count', 'Hop_Count')\nDropped columns: ['From', 'To', 'Avg_Duration', 'Id']\nIteration 219 of 255\nFeature columns: ('From', 'To', 'Avg_Duration', 'Total_Duration', 'Avg_Bytes', 'Total_Bytes')\nDropped columns: ['Count', 'Hop_Count', 'Id']\nIteration 220 of 255\nFeature columns: ('From', 'To', 'Avg_Duration', 'Total_Duration', 'Avg_Bytes', 'Count')\nDropped columns: ['Total_Bytes', 'Hop_Count', 'Id']\nIteration 221 of 255\nFeature columns: ('From', 'To', 'Avg_Duration', 'Total_Duration', 'Avg_Bytes', 'Hop_Count')\nDropped columns: ['Total_Bytes', 'Count', 'Id']\nIteration 222 of 255\nFeature columns: ('From', 'To', 'Avg_Duration', 'Total_Duration', 'Total_Bytes', 'Count')\nDropped columns: ['Avg_Bytes', 'Hop_Count', 'Id']\nIteration 223 of 255\nFeature columns: ('From', 'To', 'Avg_Duration', 'Total_Duration', 'Total_Bytes', 'Hop_Count')\nDropped columns: ['Avg_Bytes', 'Count', 'Id']\nIteration 224 of 255\nFeature columns: ('From', 'To', 'Avg_Duration', 'Total_Duration', 'Count', 'Hop_Count')\nDropped columns: ['Avg_Bytes', 'Total_Bytes', 'Id']\nIteration 225 of 255\nFeature columns: ('From', 'To', 'Avg_Duration', 'Avg_Bytes', 'Total_Bytes', 'Count')\nDropped columns: ['Total_Duration', 'Hop_Count', 'Id']\nIteration 226 of 255\nFeature columns: ('From', 'To', 'Avg_Duration', 'Avg_Bytes', 'Total_Bytes', 'Hop_Count')\nDropped columns: ['Total_Duration', 'Count', 'Id']\nIteration 227 of 255\nFeature columns: ('From', 'To', 'Avg_Duration', 'Avg_Bytes', 'Count', 'Hop_Count')\nDropped columns: ['Total_Duration', 'Total_Bytes', 'Id']\nIteration 228 of 255\nFeature columns: ('From', 'To', 'Avg_Duration', 'Total_Bytes', 'Count', 'Hop_Count')\nDropped columns: ['Total_Duration', 'Avg_Bytes', 'Id']\nIteration 229 of 255\nFeature columns: ('From', 'To', 'Total_Duration', 'Avg_Bytes', 'Total_Bytes', 'Count')\nDropped columns: ['Avg_Duration', 'Hop_Count', 'Id']\nIteration 230 of 255\nFeature columns: ('From', 'To', 'Total_Duration', 'Avg_Bytes', 'Total_Bytes', 'Hop_Count')\nDropped columns: ['Avg_Duration', 'Count', 'Id']\nIteration 231 of 255\nFeature columns: ('From', 'To', 'Total_Duration', 'Avg_Bytes', 'Count', 'Hop_Count')\nDropped columns: ['Avg_Duration', 'Total_Bytes', 'Id']\nIteration 232 of 255\nFeature columns: ('From', 'To', 'Total_Duration', 'Total_Bytes', 'Count', 'Hop_Count')\nDropped columns: ['Avg_Duration', 'Avg_Bytes', 'Id']\nIteration 233 of 255\nFeature columns: ('From', 'To', 'Avg_Bytes', 'Total_Bytes', 'Count', 'Hop_Count')\nDropped columns: ['Avg_Duration', 'Total_Duration', 'Id']\nIteration 234 of 255\nFeature columns: ('From', 'Avg_Duration', 'Total_Duration', 'Avg_Bytes', 'Total_Bytes', 'Count')\nDropped columns: ['To', 'Hop_Count', 'Id']\nIteration 235 of 255\nFeature columns: ('From', 'Avg_Duration', 'Total_Duration', 'Avg_Bytes', 'Total_Bytes', 'Hop_Count')\nDropped columns: ['To', 'Count', 'Id']\nIteration 236 of 255\nFeature columns: ('From', 'Avg_Duration', 'Total_Duration', 'Avg_Bytes', 'Count', 'Hop_Count')\nDropped columns: ['To', 'Total_Bytes', 'Id']\nIteration 237 of 255\nFeature columns: ('From', 'Avg_Duration', 'Total_Duration', 'Total_Bytes', 'Count', 'Hop_Count')\nDropped columns: ['To', 'Avg_Bytes', 'Id']\nIteration 238 of 255\nFeature columns: ('From', 'Avg_Duration', 'Avg_Bytes', 'Total_Bytes', 'Count', 'Hop_Count')\nDropped columns: ['To', 'Total_Duration', 'Id']\nIteration 239 of 255\nFeature columns: ('From', 'Total_Duration', 'Avg_Bytes', 'Total_Bytes', 'Count', 'Hop_Count')\nDropped columns: ['To', 'Avg_Duration', 'Id']\nIteration 240 of 255\nFeature columns: ('To', 'Avg_Duration', 'Total_Duration', 'Avg_Bytes', 'Total_Bytes', 'Count')\nDropped columns: ['From', 'Hop_Count', 'Id']\nIteration 241 of 255\nFeature columns: ('To', 'Avg_Duration', 'Total_Duration', 'Avg_Bytes', 'Total_Bytes', 'Hop_Count')\nDropped columns: ['From', 'Count', 'Id']\nIteration 242 of 255\nFeature columns: ('To', 'Avg_Duration', 'Total_Duration', 'Avg_Bytes', 'Count', 'Hop_Count')\nDropped columns: ['From', 'Total_Bytes', 'Id']\nIteration 243 of 255\nFeature columns: ('To', 'Avg_Duration', 'Total_Duration', 'Total_Bytes', 'Count', 'Hop_Count')\nDropped columns: ['From', 'Avg_Bytes', 'Id']\nIteration 244 of 255\nFeature columns: ('To', 'Avg_Duration', 'Avg_Bytes', 'Total_Bytes', 'Count', 'Hop_Count')\nDropped columns: ['From', 'Total_Duration', 'Id']\nIteration 245 of 255\nFeature columns: ('To', 'Total_Duration', 'Avg_Bytes', 'Total_Bytes', 'Count', 'Hop_Count')\nDropped columns: ['From', 'Avg_Duration', 'Id']\nIteration 246 of 255\nFeature columns: ('Avg_Duration', 'Total_Duration', 'Avg_Bytes', 'Total_Bytes', 'Count', 'Hop_Count')\nDropped columns: ['From', 'To', 'Id']\nIteration 247 of 255\nFeature columns: ('From', 'To', 'Avg_Duration', 'Total_Duration', 'Avg_Bytes', 'Total_Bytes', 'Count')\nDropped columns: ['Hop_Count', 'Id']\nIteration 248 of 255\nFeature columns: ('From', 'To', 'Avg_Duration', 'Total_Duration', 'Avg_Bytes', 'Total_Bytes', 'Hop_Count')\nDropped columns: ['Count', 'Id']\nIteration 249 of 255\nFeature columns: ('From', 'To', 'Avg_Duration', 'Total_Duration', 'Avg_Bytes', 'Count', 'Hop_Count')\nDropped columns: ['Total_Bytes', 'Id']\nIteration 250 of 255\nFeature columns: ('From', 'To', 'Avg_Duration', 'Total_Duration', 'Total_Bytes', 'Count', 'Hop_Count')\nDropped columns: ['Avg_Bytes', 'Id']\nIteration 251 of 255\nFeature columns: ('From', 'To', 'Avg_Duration', 'Avg_Bytes', 'Total_Bytes', 'Count', 'Hop_Count')\nDropped columns: ['Total_Duration', 'Id']\nIteration 252 of 255\nFeature columns: ('From', 'To', 'Total_Duration', 'Avg_Bytes', 'Total_Bytes', 'Count', 'Hop_Count')\nDropped columns: ['Avg_Duration', 'Id']\nIteration 253 of 255\nFeature columns: ('From', 'Avg_Duration', 'Total_Duration', 'Avg_Bytes', 'Total_Bytes', 'Count', 'Hop_Count')\nDropped columns: ['To', 'Id']\nIteration 254 of 255\nFeature columns: ('To', 'Avg_Duration', 'Total_Duration', 'Avg_Bytes', 'Total_Bytes', 'Count', 'Hop_Count')\nDropped columns: ['From', 'Id']\nIteration 255 of 255\nFeature columns: ('From', 'To', 'Avg_Duration', 'Total_Duration', 'Avg_Bytes', 'Total_Bytes', 'Count', 'Hop_Count')\nDropped columns: ['Id']\n"
          ]
        }
      ],
      "execution_count": 97,
      "metadata": {
        "jupyter": {
          "source_hidden": false,
          "outputs_hidden": false
        },
        "nteract": {
          "transient": {
            "deleting": false
          }
        }
      }
    },
    {
      "cell_type": "code",
      "source": [
        "save_df_to_csv(result_df, filesystem_endpoint, f\"{data_folder}/{algorithm.value}_results_{dataset}.csv\")"
      ],
      "outputs": [
        {
          "output_type": "display_data",
          "data": {
            "application/vnd.livy.statement-meta+json": {
              "spark_pool": "sparkPool01",
              "session_id": "10",
              "statement_id": 131,
              "state": "finished",
              "livy_statement_state": "available",
              "queued_time": "2024-03-17T22:49:39.409291Z",
              "session_start_time": null,
              "execution_start_time": "2024-03-17T23:07:11.0968233Z",
              "execution_finish_time": "2024-03-17T23:11:53.2769896Z",
              "spark_jobs": null,
              "parent_msg_id": "e90f6f83-b61a-49d0-b75a-4895f028c05a"
            },
            "text/plain": "StatementMeta(sparkPool01, 10, 131, Finished, Available)"
          },
          "metadata": {}
        }
      ],
      "execution_count": 98,
      "metadata": {
        "application/vnd.databricks.v1+cell": {
          "cellMetadata": {
            "byteLimit": 2048000,
            "rowLimit": 10000
          },
          "inputWidgets": {},
          "nuid": "69750a06-0b37-4441-9bf8-3c8216d9eae0",
          "showTitle": false,
          "title": ""
        }
      }
    },
    {
      "cell_type": "code",
      "source": [],
      "outputs": [],
      "execution_count": null,
      "metadata": {
        "application/vnd.databricks.v1+cell": {
          "cellMetadata": {},
          "inputWidgets": {},
          "nuid": "1736ffc9-6443-4b08-a048-20dadd856c0f",
          "showTitle": false,
          "title": ""
        }
      }
    }
  ],
  "metadata": {
    "kernelspec": {
      "name": "synapse_pyspark",
      "language": "Python",
      "display_name": "Synapse PySpark"
    },
    "language_info": {
      "name": "python"
    },
    "kernel_info": {
      "name": "synapse_pyspark"
    },
    "save_output": true,
    "synapse_widget": {
      "version": "0.1",
      "state": {}
    }
  },
  "nbformat": 4,
  "nbformat_minor": 2
}